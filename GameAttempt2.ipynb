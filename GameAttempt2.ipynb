{
  "cells": [
    {
      "cell_type": "code",
      "execution_count": null,
      "metadata": {
        "id": "D00CYC7ewnF6"
      },
      "outputs": [],
      "source": [
        "import random\n",
        "from collections import deque, namedtuple\n",
        "import IPython\n",
        "\n",
        "Edge = tuple\n",
        "Tree = set\n",
        "\n",
        "def edge(A, B) -> Edge: return Edge(sorted([A, B]))\n",
        "\n",
        "def random_tree(nodes, neighbors, pop=deque.pop) -> Tree:\n",
        "    \"\"\"Repeat: pop a node and add edge(node, nbr) until all nodes have been added to tree.\"\"\"\n",
        "    tree = Tree()\n",
        "    nodes = set(nodes)\n",
        "    root = nodes.pop()\n",
        "    frontier = deque([root])\n",
        "    while nodes:\n",
        "        node = pop(frontier)\n",
        "        nbrs = neighbors(node) & nodes\n",
        "        if nbrs:\n",
        "            nbr = random.choice(list(nbrs))\n",
        "            tree.add(edge(node, nbr))\n",
        "            nodes.remove(nbr)\n",
        "            frontier.extend([node, nbr])\n",
        "    return tree"
      ]
    },
    {
      "cell_type": "code",
      "execution_count": null,
      "metadata": {
        "id": "tlBOlrEyxZ2Q"
      },
      "outputs": [],
      "source": [
        "class Player: #position of 9, 9 signifies the end\n",
        "    def __init__(self, maze, start_position=(0, 0)):\n",
        "        self.maze = maze\n",
        "        self.position = start_position\n",
        "\n",
        "    def move(self, new_position):\n",
        "        if new_position in neighbors4(self.position):\n",
        "            self.position = new_position\n",
        "\n",
        "    def move2(self, new_position):\n",
        "        if new_position in neighbors4(self.position):\n",
        "            # Check if the new position is within the maze boundaries\n",
        "            if 0 <= new_position[0] < self.maze.width and 0 <= new_position[1] < self.maze.height:\n",
        "                # Check if there's a wall between the current and new positions\n",
        "                if edge(self.position, new_position) in self.maze.edges:\n",
        "                    self.position = new_position\n",
        "\n",
        "    def plot(self):\n",
        "        x, y = self.position\n",
        "        plt.plot(x + 0.5, y + 0.5, 'bo', markersize=10)  # Blue circle"
      ]
    },
    {
      "cell_type": "code",
      "execution_count": null,
      "metadata": {
        "id": "t-D8jZDHwp-Z"
      },
      "outputs": [],
      "source": [
        "Maze = namedtuple('Maze', 'width, height, edges')\n",
        "\n",
        "Square = tuple\n",
        "\n",
        "def neighbors4(square) -> {Square}:\n",
        "    \"\"\"The 4 neighbors of an (x, y) square.\"\"\"\n",
        "    (x, y) = square\n",
        "    return {(x + 1, y), (x - 1, y), (x, y + 1), (x, y - 1)}\n",
        "\n",
        "def grid(width, height) -> {Square}:\n",
        "    \"\"\"All squares in a grid of these dimensions.\"\"\"\n",
        "    return {(x, y) for x in range(width) for y in range(height)}\n",
        "\n",
        "def random_maze(width, height, pop=deque.pop) -> Maze:\n",
        "    \"\"\"Generate a random maze, using random_tree.\"\"\"\n",
        "    tree = random_tree(grid(width, height), neighbors4, pop)\n",
        "    return Maze(width, height, tree)"
      ]
    },
    {
      "cell_type": "code",
      "execution_count": null,
      "metadata": {
        "id": "OMxDpyI6wso4"
      },
      "outputs": [],
      "source": [
        "%matplotlib inline\n",
        "import matplotlib.pyplot as plt\n",
        "\n",
        "def plot_maze(maze, figsize=None, path=None):\n",
        "    \"\"\"Plot a maze by drawing lines between adjacent squares, except for pairs in maze.edges\"\"\"\n",
        "    w, h  = maze.width, maze.height\n",
        "    plt.figure(figsize=figsize or (w/5, h/5))\n",
        "    plt.axis('off')\n",
        "    plt.gca().invert_yaxis()\n",
        "    exits = {edge((0, 0), (0, -1)), edge((w-1, h-1), (w-1, h))}\n",
        "    edges = maze.edges | exits\n",
        "    for sq in grid(w, h):\n",
        "        for nbr in neighbors4(sq):\n",
        "            if edge(sq, nbr) not in edges:\n",
        "                plot_wall(sq, nbr)\n",
        "    if path: # Plot the solution (or any path) as a red line through the maze\n",
        "        X, Y = transpose((x + 0.5, y + 0.5) for (x, y) in path)\n",
        "        plt.plot(X, Y, 'r-', linewidth=2)\n",
        "\n",
        "def transpose(matrix): return list(zip(*matrix))\n",
        "\n",
        "def plot_wall(s1, s2):\n",
        "    \"\"\"Plot a wall: a black line between squares s1 and s2.\"\"\"\n",
        "    (x1, y1), (x2, y2) = s1, s2\n",
        "    if x1 == x2: # horizontal wall\n",
        "        y = max(y1, y2)\n",
        "        X, Y = [x1, x1+1], [y, y]\n",
        "    else: # vertical wall\n",
        "        x = max(x1, x2)\n",
        "        X, Y = [x, x], [y1, y1+1]\n",
        "    plt.plot(X, Y, 'k-', linewidth=2)"
      ]
    },
    {
      "cell_type": "code",
      "execution_count": null,
      "metadata": {
        "colab": {
          "background_save": true,
          "base_uri": "https://localhost:8080/",
          "height": 518
        },
        "id": "qa5Rijrlwu68",
        "outputId": "01706dde-d43b-4cf7-adec-fc2beeb5b9a1"
      },
      "outputs": [
        {
          "data": {
            "image/png": "[encoded data removed]",
            "text/plain": [
              "<Figure size 600x600 with 1 Axes>"
            ]
          },
          "metadata": {},
          "output_type": "display_data"
        }
      ],
      "source": [
        "M = random_maze(10, 10)\n",
        "player = Player(M)\n",
        "\n",
        "while True:\n",
        "    plot_maze(M, figsize=(6, 6))\n",
        "    player.plot()\n",
        "    #print(player.position)\n",
        "    plt.show()\n",
        "\n",
        "    move = input(\":\")\n",
        "\n",
        "    if move.lower() == 'q':\n",
        "        break\n",
        "\n",
        "    current_x, current_y = player.position\n",
        "    new_position = player.position\n",
        "\n",
        "    if move.lower() == 'r':\n",
        "        new_position = (current_x + 1, current_y)\n",
        "    elif move.lower() == 'l':\n",
        "        new_position = (current_x - 1, current_y)\n",
        "    elif move.lower() == 'u':\n",
        "        new_position = (current_x, current_y - 1)\n",
        "    elif move.lower() == 'd':\n",
        "        new_position = (current_x, current_y + 1)\n",
        "    else:\n",
        "        print(\"Invalid move.\")\n",
        "        continue\n",
        "\n",
        "    player.move2(new_position)\n",
        "    IPython.display.clear_output(wait=True)\n"
      ]
    }
  ],
  "metadata": {
    "colab": {
      "provenance": []
    },
    "kernelspec": {
      "display_name": "Python 3",
      "name": "python3"
    },
    "language_info": {
      "name": "python"
    }
  },
  "nbformat": 4,
  "nbformat_minor": 0
}